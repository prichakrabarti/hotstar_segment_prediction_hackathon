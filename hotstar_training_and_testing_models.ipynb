{
 "cells": [
  {
   "cell_type": "code",
   "execution_count": 47,
   "metadata": {},
   "outputs": [],
   "source": [
    "import os \n",
    "import pandas as pd\n",
    "import numpy as np\n",
    "import warnings\n",
    "warnings.filterwarnings(\"ignore\")"
   ]
  },
  {
   "cell_type": "code",
   "execution_count": 48,
   "metadata": {},
   "outputs": [],
   "source": [
    "# os.chdir(\"Desktop\")"
   ]
  },
  {
   "cell_type": "code",
   "execution_count": 49,
   "metadata": {},
   "outputs": [],
   "source": [
    "#Load the preprocessed training set\n",
    "\n",
    "df= pd.read_csv(\"hotstar_preprocessed_training_set.csv\")"
   ]
  },
  {
   "cell_type": "code",
   "execution_count": 50,
   "metadata": {},
   "outputs": [],
   "source": [
    "#Re-index the training set \n",
    "\n",
    "df.index = df[\"Unnamed: 0\"]"
   ]
  },
  {
   "cell_type": "code",
   "execution_count": 51,
   "metadata": {},
   "outputs": [],
   "source": [
    "#Drop the redundant index column\n",
    "\n",
    "df.drop([\"Unnamed: 0\"],1,inplace=True)"
   ]
  },
  {
   "cell_type": "code",
   "execution_count": 52,
   "metadata": {},
   "outputs": [],
   "source": [
    "X= df"
   ]
  },
  {
   "cell_type": "code",
   "execution_count": 53,
   "metadata": {},
   "outputs": [],
   "source": [
    "#From the original non-preprocessed dataset, retrieve the target variable column\n",
    "\n",
    "original_df= pd.read_json(\"train_data.json\")\n",
    "original_df= original_df.T\n",
    "original_df=original_df[:10000]"
   ]
  },
  {
   "cell_type": "code",
   "execution_count": 54,
   "metadata": {},
   "outputs": [
    {
     "data": {
      "text/plain": [
       "neg    9250\n",
       "pos     750\n",
       "Name: segment, dtype: int64"
      ]
     },
     "execution_count": 54,
     "metadata": {},
     "output_type": "execute_result"
    }
   ],
   "source": [
    "#Check for class imbalances\n",
    "\n",
    "original_df[\"segment\"].value_counts()"
   ]
  },
  {
   "cell_type": "code",
   "execution_count": 55,
   "metadata": {},
   "outputs": [],
   "source": [
    "#Converting the target variable to continuous values\n",
    "original_df[\"segment\"]= original_df[\"segment\"].apply(lambda x:1 if x ==\"pos\" else 0)"
   ]
  },
  {
   "cell_type": "code",
   "execution_count": 56,
   "metadata": {},
   "outputs": [],
   "source": [
    "y= original_df[\"segment\"]"
   ]
  },
  {
   "cell_type": "code",
   "execution_count": 57,
   "metadata": {},
   "outputs": [],
   "source": [
    "#Fill all null values in the feature set X with 0's\n",
    "\n",
    "X.fillna(0,inplace=True)"
   ]
  },
  {
   "cell_type": "code",
   "execution_count": 58,
   "metadata": {},
   "outputs": [],
   "source": [
    "#Break the data into training and validation sets\n",
    "\n",
    "from sklearn.model_selection import train_test_split as tts\n",
    "X_train, X_val, y_train, y_val= tts(X,y,test_size=0.3,random_state= 42)"
   ]
  },
  {
   "cell_type": "code",
   "execution_count": 102,
   "metadata": {},
   "outputs": [],
   "source": [
    "#Since the dataset is highly imbalanced, we will use SMOTE to oversample the minority class\n",
    "\n",
    "from imblearn.over_sampling import SMOTE"
   ]
  },
  {
   "cell_type": "code",
   "execution_count": 103,
   "metadata": {},
   "outputs": [],
   "source": [
    "sm= SMOTE(random_state=42)"
   ]
  },
  {
   "cell_type": "code",
   "execution_count": 104,
   "metadata": {},
   "outputs": [],
   "source": [
    "X_train_res, y_train_res = sm.fit_sample(X_train, y_train.ravel())"
   ]
  },
  {
   "cell_type": "code",
   "execution_count": 105,
   "metadata": {},
   "outputs": [],
   "source": [
    "# Now lets redo all the above models with SMOTE- oversampling of the minority class data\n",
    "#This is done to remove the class imbalance in the training dataset"
   ]
  },
  {
   "cell_type": "code",
   "execution_count": 129,
   "metadata": {},
   "outputs": [
    {
     "name": "stdout",
     "output_type": "stream",
     "text": [
      "Accuracy Score for Logistic Regression is:0.718\n"
     ]
    }
   ],
   "source": [
    "logreg.fit(X_train_res,y_train_res)\n",
    "smote_logreg= logreg.predict(X_val)\n",
    "print (\"Accuracy Score for Logistic Regression is:\" + str(accuracy_score(y_val,smote_logreg)))"
   ]
  },
  {
   "cell_type": "code",
   "execution_count": 131,
   "metadata": {},
   "outputs": [
    {
     "name": "stdout",
     "output_type": "stream",
     "text": [
      "Accuracy Score for Decision Tree is:0.8216666666666667\n"
     ]
    }
   ],
   "source": [
    "dtc.fit(X_train_res,y_train_res)\n",
    "smote_dtc= dtc.predict(X_val)\n",
    "print (\"Accuracy Score for Decision Tree is:\" + str(accuracy_score(y_val,smote_dtc)))"
   ]
  },
  {
   "cell_type": "code",
   "execution_count": 133,
   "metadata": {},
   "outputs": [
    {
     "name": "stdout",
     "output_type": "stream",
     "text": [
      "Accuracy Score for the Random Forest Classifier is:0.885\n"
     ]
    }
   ],
   "source": [
    "rfc.fit(X_train_res,y_train_res)\n",
    "smote_rfc= rfc.predict(X_val)\n",
    "print (\"Accuracy Score for the Random Forest Classifier is:\" + str(accuracy_score(y_val,smote_rfc)))"
   ]
  },
  {
   "cell_type": "code",
   "execution_count": 134,
   "metadata": {},
   "outputs": [
    {
     "name": "stdout",
     "output_type": "stream",
     "text": [
      "Accuracy Score for the Support Vector Classifier is:0.911\n"
     ]
    }
   ],
   "source": [
    "svc.fit(X_train_res,y_train_res)\n",
    "smote_svc= svc.predict(X_val)\n",
    "print (\"Accuracy Score for the Support Vector Classifier is:\" + str(accuracy_score(y_val,smote_svc)))"
   ]
  },
  {
   "cell_type": "code",
   "execution_count": 135,
   "metadata": {},
   "outputs": [
    {
     "name": "stdout",
     "output_type": "stream",
     "text": [
      "Accuracy Score for the AdaBoost Classifier is:0.7956666666666666\n"
     ]
    }
   ],
   "source": [
    "#Now lets use some boosting algorithms\n",
    "ada.fit(X_train_res,y_train_res)\n",
    "smote_ada= ada.predict(X_val)\n",
    "print (\"Accuracy Score for the AdaBoost Classifier is:\" + str(accuracy_score(y_val,smote_ada)))"
   ]
  },
  {
   "cell_type": "code",
   "execution_count": 136,
   "metadata": {},
   "outputs": [],
   "source": [
    "from sklearn.ensemble import GradientBoostingClassifier\n",
    "gb= GradientBoostingClassifier()"
   ]
  },
  {
   "cell_type": "code",
   "execution_count": 138,
   "metadata": {},
   "outputs": [
    {
     "name": "stdout",
     "output_type": "stream",
     "text": [
      "Accuracy Score for the Gradient Boosting Classifier is:0.8133333333333334\n"
     ]
    }
   ],
   "source": [
    "gb.fit(X_train_res,y_train_res)\n",
    "smote_gb= gb.predict(X_val)\n",
    "print (\"Accuracy Score for the Gradient Boosting Classifier is:\" + str(accuracy_score(y_val,smote_gb)))"
   ]
  },
  {
   "cell_type": "code",
   "execution_count": 139,
   "metadata": {},
   "outputs": [],
   "source": [
    "from sklearn.ensemble import BaggingClassifier"
   ]
  },
  {
   "cell_type": "code",
   "execution_count": 140,
   "metadata": {},
   "outputs": [],
   "source": [
    "bagging = BaggingClassifier()"
   ]
  },
  {
   "cell_type": "code",
   "execution_count": 141,
   "metadata": {},
   "outputs": [
    {
     "name": "stdout",
     "output_type": "stream",
     "text": [
      "Accuracy Score for the Bagging Classifier is:0.867\n"
     ]
    }
   ],
   "source": [
    "bagging.fit(X_train_res,y_train_res)\n",
    "smote_bagging= bagging.predict(X_val)\n",
    "roc_auc_score(y_val,smote_bagging)\n",
    "print (\"Accuracy Score for the Bagging Classifier is:\" + str(accuracy_score(y_val,smote_bagging)))"
   ]
  },
  {
   "cell_type": "code",
   "execution_count": 142,
   "metadata": {},
   "outputs": [],
   "source": [
    "from sklearn.ensemble import VotingClassifier"
   ]
  },
  {
   "cell_type": "code",
   "execution_count": 143,
   "metadata": {},
   "outputs": [],
   "source": [
    "vc = VotingClassifier(estimators=[(\"svc\", svc), ('logreg', logreg),(\"dtc\",dtc)])"
   ]
  },
  {
   "cell_type": "code",
   "execution_count": 144,
   "metadata": {},
   "outputs": [
    {
     "name": "stdout",
     "output_type": "stream",
     "text": [
      "Accuracy Score for the Voting Classfier Classifier is:0.872\n"
     ]
    }
   ],
   "source": [
    "vc.fit(X_train_res,y_train_res)\n",
    "smote_vc= vc.predict(X_val)\n",
    "roc_auc_score(y_val,smote_vc)\n",
    "print (\"Accuracy Score for the Voting Classfier Classifier is:\" + str(accuracy_score(y_val,smote_vc)))"
   ]
  },
  {
   "cell_type": "code",
   "execution_count": 147,
   "metadata": {},
   "outputs": [],
   "source": [
    "#In this particular case I would go with the Voting Classifier ensemble method as my final model\n",
    "#SMOTE- oversampling - improved model performance "
   ]
  },
  {
   "cell_type": "code",
   "execution_count": null,
   "metadata": {},
   "outputs": [],
   "source": []
  }
 ],
 "metadata": {
  "kernelspec": {
   "display_name": "Python 3",
   "language": "python",
   "name": "python3"
  },
  "language_info": {
   "codemirror_mode": {
    "name": "ipython",
    "version": 3
   },
   "file_extension": ".py",
   "mimetype": "text/x-python",
   "name": "python",
   "nbconvert_exporter": "python",
   "pygments_lexer": "ipython3",
   "version": "3.7.1"
  }
 },
 "nbformat": 4,
 "nbformat_minor": 2
}
